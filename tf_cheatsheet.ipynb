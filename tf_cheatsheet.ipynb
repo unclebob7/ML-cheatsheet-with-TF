{
 "cells": [
  {
   "cell_type": "markdown",
   "metadata": {},
   "source": [
    "# Tensorflow cheatsheet"
   ]
  },
  {
   "cell_type": "markdown",
   "metadata": {},
   "source": [
    "## Setup"
   ]
  },
  {
   "cell_type": "code",
   "execution_count": 6,
   "metadata": {},
   "outputs": [],
   "source": [
    "# To support both python 2 and python 3\n",
    "from __future__ import division, print_function, unicode_literals\n",
    "\n",
    "# Common imports\n",
    "import numpy as np\n",
    "import os\n",
    "\n",
    "# to make this notebook's output stable across runs\n",
    "def reset_graph(seed=42):\n",
    "    tf.reset_default_graph()\n",
    "    tf.set_random_seed(seed)\n",
    "    np.random.seed(seed)\n",
    "\n",
    "# To plot pretty figures\n",
    "%matplotlib inline\n",
    "import matplotlib\n",
    "import matplotlib.pyplot as plt\n",
    "plt.rcParams['axes.labelsize'] = 14\n",
    "plt.rcParams['xtick.labelsize'] = 12\n",
    "plt.rcParams['ytick.labelsize'] = 12\n",
    "\n",
    "# Where to save the figures\n",
    "PROJECT_ROOT_DIR = \".\"\n",
    "CHAPTER_ID = \"tensorflow\"\n",
    "\n",
    "def save_fig(fig_id, tight_layout=True):\n",
    "    path = os.path.join(PROJECT_ROOT_DIR, \"images\", CHAPTER_ID, fig_id + \".png\")\n",
    "    print(\"Saving figure\", fig_id)\n",
    "    if tight_layout:\n",
    "        plt.tight_layout()\n",
    "    plt.savefig(path, format='png', dpi=300)"
   ]
  },
  {
   "cell_type": "markdown",
   "metadata": {},
   "source": [
    "## Idea of session"
   ]
  },
  {
   "cell_type": "code",
   "execution_count": 7,
   "metadata": {
    "scrolled": true
   },
   "outputs": [],
   "source": [
    "import tensorflow as tf\n",
    "# tf.enable_eager_execution()\n",
    "import numpy as np\n",
    "from sklearn.datasets import fetch_california_housing"
   ]
  },
  {
   "cell_type": "code",
   "execution_count": 2,
   "metadata": {},
   "outputs": [],
   "source": [
    "w = tf.constant(2)\n",
    "w1 = tf.Variable(2)\n",
    "\n",
    "x = tf.constant(5)\n",
    "x1 = tf.Variable(5)\n",
    "\n",
    "y = w*(x**2)\n",
    "z = w*x+2\n",
    "\n",
    "y1 = w1*(x1**2)\n",
    "z1 = w1*x1+2"
   ]
  },
  {
   "cell_type": "code",
   "execution_count": 3,
   "metadata": {},
   "outputs": [],
   "source": [
    "init = tf.global_variables_initializer()    # prepare an init node"
   ]
  },
  {
   "cell_type": "code",
   "execution_count": 4,
   "metadata": {},
   "outputs": [
    {
     "name": "stdout",
     "output_type": "stream",
     "text": [
      "resultvalue: <class 'numpy.int32'>\n"
     ]
    }
   ],
   "source": [
    "with tf.Session() as sess:\n",
    "    init.run()\n",
    "    result = sess.run(y)\n",
    "    print(\"resultvalue: {0}\".format(type(result)))"
   ]
  },
  {
   "cell_type": "code",
   "execution_count": 5,
   "metadata": {},
   "outputs": [],
   "source": [
    "def constant_eval():\n",
    "    y.eval()\n",
    "    z.eval()"
   ]
  },
  {
   "cell_type": "code",
   "execution_count": 6,
   "metadata": {},
   "outputs": [],
   "source": [
    "def variable_eval():\n",
    "    y1.eval()\n",
    "    z1.eval()"
   ]
  },
  {
   "cell_type": "code",
   "execution_count": 9,
   "metadata": {
    "scrolled": true
   },
   "outputs": [
    {
     "name": "stdout",
     "output_type": "stream",
     "text": [
      "213 µs ± 10.8 µs per loop (mean ± std. dev. of 7 runs, 1000 loops each)\n",
      "147 µs ± 1.35 µs per loop (mean ± std. dev. of 7 runs, 10000 loops each)\n",
      "250 µs ± 5.86 µs per loop (mean ± std. dev. of 7 runs, 1000 loops each)\n",
      "173 µs ± 1.56 µs per loop (mean ± std. dev. of 7 runs, 10000 loops each)\n"
     ]
    }
   ],
   "source": [
    "with tf.Session() as sess:\n",
    "    init.run()\n",
    "    %timeit constant_eval()    # evaluate y, z twice\n",
    "    %timeit y_val, z_val = sess.run([y, z])    # evaluate y, z in 1 graph run\n",
    "    %timeit variable_eval()\n",
    "    %timeit y1_val, z1_val = sess.run([y1, z1])"
   ]
  },
  {
   "cell_type": "markdown",
   "metadata": {},
   "source": [
    "constant-structure is algorithmically less time-perplexing than Variable-structure"
   ]
  },
  {
   "cell_type": "markdown",
   "metadata": {},
   "source": [
    "## GD with manual derivatives"
   ]
  },
  {
   "cell_type": "code",
   "execution_count": 11,
   "metadata": {
    "scrolled": false
   },
   "outputs": [],
   "source": [
    "housing = fetch_california_housing()\n",
    "m, n = housing.data.shape"
   ]
  },
  {
   "cell_type": "markdown",
   "metadata": {},
   "source": [
    "always remember to apply feature-scaling (data normalization) before GD"
   ]
  },
  {
   "cell_type": "code",
   "execution_count": 12,
   "metadata": {},
   "outputs": [],
   "source": [
    "from sklearn.preprocessing import StandardScaler\n",
    "scaler = StandardScaler()\n",
    "scaled_housing_data = scaler.fit_transform(housing.data)\n",
    "x = np.c_[np.ones((m, 1)), scaled_housing_data]\n",
    "y = housing.target\n",
    "w = np.random.randn(n+1, 1)"
   ]
  },
  {
   "cell_type": "markdown",
   "metadata": {},
   "source": [
    "setup nodes"
   ]
  },
  {
   "cell_type": "code",
   "execution_count": 7,
   "metadata": {},
   "outputs": [],
   "source": [
    "n_epochs = 2000\n",
    "learning_rate = 0.01"
   ]
  },
  {
   "cell_type": "markdown",
   "metadata": {},
   "source": [
    "source ops"
   ]
  },
  {
   "cell_type": "code",
   "execution_count": 23,
   "metadata": {},
   "outputs": [],
   "source": [
    "X = tf.constant(x, dtype=tf.float32, name=\"X\")\n",
    "Y = tf.constant(housing.target.reshape(-1 ,1),dtype=tf.float32, name=\"Y\")\n",
    "W = tf.Variable(w,dtype=tf.float32, name=\"W\")        # internal model parameters\n",
    "www = W+2    # www has been implicitly been extened as tf.Variable"
   ]
  },
  {
   "cell_type": "markdown",
   "metadata": {},
   "source": [
    "ops"
   ]
  },
  {
   "cell_type": "code",
   "execution_count": 29,
   "metadata": {},
   "outputs": [],
   "source": [
    "Y_predict = tf.matmul(X, W, name=\"prediction\")\n",
    "error = Y_predict - Y\n",
    "loss = tf.losses.mean_squared_error(Y, Y_predict)\n",
    "gradients = 2/m*tf.matmul(tf.transpose(X), error)\n",
    " \n",
    "# cannot directly apply \"W = W - learning_rate*gradients\" since costant and Variable are \"source ops\" that take no input\n",
    "# W = W - learning_rate*gradients\n",
    "training_op = tf.assign(W, W - learning_rate*gradients)   \n",
    "\n",
    "init = tf.global_variables_initializer()"
   ]
  },
  {
   "cell_type": "code",
   "execution_count": 32,
   "metadata": {},
   "outputs": [
    {
     "name": "stdout",
     "output_type": "stream",
     "text": [
      "#Epoch 0 :  MSE = 17.5893\n",
      "#Epoch 100 :  MSE = 1.06605\n",
      "#Epoch 200 :  MSE = 0.727634\n",
      "#Epoch 300 :  MSE = 0.668196\n",
      "#Epoch 400 :  MSE = 0.629465\n",
      "#Epoch 500 :  MSE = 0.601439\n",
      "#Epoch 600 :  MSE = 0.581019\n",
      "#Epoch 700 :  MSE = 0.566111\n",
      "#Epoch 800 :  MSE = 0.555209\n",
      "#Epoch 900 :  MSE = 0.547221\n",
      "#Epoch 1000 :  MSE = 0.541356\n",
      "#Epoch 1100 :  MSE = 0.537039\n",
      "#Epoch 1200 :  MSE = 0.533853\n",
      "#Epoch 1300 :  MSE = 0.531496\n",
      "#Epoch 1400 :  MSE = 0.529745\n",
      "#Epoch 1500 :  MSE = 0.528441\n",
      "#Epoch 1600 :  MSE = 0.527466\n",
      "#Epoch 1700 :  MSE = 0.526733\n",
      "#Epoch 1800 :  MSE = 0.526181\n",
      "#Epoch 1900 :  MSE = 0.525763\n",
      "optimal internal model parameters: [[ 2.06855226]\n",
      " [ 0.78806996]\n",
      " [ 0.11988165]\n",
      " [-0.1703423 ]\n",
      " [ 0.21964966]\n",
      " [-0.0035526 ]\n",
      " [-0.03853594]\n",
      " [-0.93066472]\n",
      " [-0.89567709]]\n"
     ]
    }
   ],
   "source": [
    "with tf.Session() as sess:\n",
    "    sess.run(init)\n",
    "    WWW = sess.run(www)\n",
    "    for epoch in range(n_epochs):\n",
    "        if epoch % 100 == 0:\n",
    "            print(\"#Epoch\", epoch, \": \", \"MSE =\", loss.eval())\n",
    "        sess.run(training_op)\n",
    "        \n",
    "    best_W = W.eval()\n",
    "    print(\"optimal internal model parameters:\", best_W)"
   ]
  },
  {
   "cell_type": "markdown",
   "metadata": {},
   "source": [
    "## GD with TF reverse-mode autodiff"
   ]
  },
  {
   "cell_type": "code",
   "execution_count": 5,
   "metadata": {
    "scrolled": true
   },
   "outputs": [
    {
     "ename": "NameError",
     "evalue": "name 'loss' is not defined",
     "output_type": "error",
     "traceback": [
      "Traceback \u001b[0;36m(most recent call last)\u001b[0m:\n",
      "\u001b[0;36m  File \u001b[0;32m\"<ipython-input-5-211ebd772d73>\"\u001b[0;36m, line \u001b[0;32m1\u001b[0;36m, in \u001b[0;35m<module>\u001b[0;36m\u001b[0m\n\u001b[0;31m    gradients_autodiff = tf.gradients(loss, [W])    # eveything define with tf. is an operation including this...\u001b[0m\n",
      "\u001b[0;31mNameError\u001b[0m\u001b[0;31m:\u001b[0m name 'loss' is not defined\n"
     ]
    }
   ],
   "source": [
    "gradients_autodiff = tf.gradients(loss, [W])    # eveything define with tf. is an operation including this...\n",
    "print(gradients_autodiff)\n",
    "training_op_autodiff = tf.assign(W, W - learning_rate*gradients_autodiff[0])   "
   ]
  },
  {
   "cell_type": "code",
   "execution_count": 18,
   "metadata": {},
   "outputs": [
    {
     "name": "stdout",
     "output_type": "stream",
     "text": [
      "[array([[-4.94855881],\n",
      "       [-4.48504353],\n",
      "       [ 0.71529096],\n",
      "       [-2.399652  ],\n",
      "       [-0.89287376],\n",
      "       [ 0.0587704 ],\n",
      "       [ 3.94650126],\n",
      "       [-1.81760597],\n",
      "       [ 2.41193056]], dtype=float32)]\n",
      "#Epoch 0 :  MSE = 17.5893\n",
      "#Epoch 100 :  MSE = 1.06605\n",
      "#Epoch 200 :  MSE = 0.727634\n",
      "#Epoch 300 :  MSE = 0.668196\n",
      "#Epoch 400 :  MSE = 0.629465\n",
      "#Epoch 500 :  MSE = 0.601439\n",
      "#Epoch 600 :  MSE = 0.581019\n",
      "#Epoch 700 :  MSE = 0.566111\n",
      "#Epoch 800 :  MSE = 0.555209\n",
      "#Epoch 900 :  MSE = 0.547221\n",
      "#Epoch 1000 :  MSE = 0.541356\n",
      "#Epoch 1100 :  MSE = 0.537039\n",
      "#Epoch 1200 :  MSE = 0.533853\n",
      "#Epoch 1300 :  MSE = 0.531496\n",
      "#Epoch 1400 :  MSE = 0.529745\n",
      "#Epoch 1500 :  MSE = 0.528441\n",
      "#Epoch 1600 :  MSE = 0.527466\n",
      "#Epoch 1700 :  MSE = 0.526733\n",
      "#Epoch 1800 :  MSE = 0.526181\n",
      "#Epoch 1900 :  MSE = 0.525763\n",
      "optimal internal model parameters: [[ 2.06855249]\n",
      " [ 0.78806996]\n",
      " [ 0.11988167]\n",
      " [-0.17034236]\n",
      " [ 0.21964972]\n",
      " [-0.00355259]\n",
      " [-0.03853594]\n",
      " [-0.93066454]\n",
      " [-0.89567691]]\n"
     ]
    }
   ],
   "source": [
    "with tf.Session() as sess:\n",
    "    sess.run(init)\n",
    "    result = sess.run(gradients_autodiff)\n",
    "    print(result)\n",
    "    \n",
    "     \n",
    "    for epoch in range(n_epochs):\n",
    "        if epoch % 100 == 0:\n",
    "            print(\"#Epoch\", epoch, \": \", \"MSE =\", loss.eval())\n",
    "        sess.run(training_op_autodiff)\n",
    "        \n",
    "    best_W = W.eval()\n",
    "    print(\"optimal internal model parameters:\", best_W)"
   ]
  },
  {
   "cell_type": "markdown",
   "metadata": {},
   "source": [
    "## GD with TF optimizer"
   ]
  },
  {
   "cell_type": "markdown",
   "metadata": {},
   "source": [
    "to make GD computation even more abstract and intuitive..."
   ]
  },
  {
   "cell_type": "code",
   "execution_count": 13,
   "metadata": {},
   "outputs": [
    {
     "ename": "NameError",
     "evalue": "name 'loss' is not defined",
     "output_type": "error",
     "traceback": [
      "Traceback \u001b[0;36m(most recent call last)\u001b[0m:\n",
      "\u001b[0;36m  File \u001b[0;32m\"<ipython-input-13-143d14dd9062>\"\u001b[0;36m, line \u001b[0;32m2\u001b[0;36m, in \u001b[0;35m<module>\u001b[0;36m\u001b[0m\n\u001b[0;31m    training_op_optimizer = optimizer.minimize(loss)\u001b[0m\n",
      "\u001b[0;31mNameError\u001b[0m\u001b[0;31m:\u001b[0m name 'loss' is not defined\n"
     ]
    }
   ],
   "source": [
    "optimizer = tf.train.GradientDescentOptimizer(learning_rate=learning_rate)\n",
    "training_op_optimizer = optimizer.minimize(loss)"
   ]
  },
  {
   "cell_type": "code",
   "execution_count": 38,
   "metadata": {},
   "outputs": [
    {
     "name": "stdout",
     "output_type": "stream",
     "text": [
      "#Epoch 0 :  MSE = 17.5893\n",
      "#Epoch 100 :  MSE = 1.06605\n",
      "#Epoch 200 :  MSE = 0.727634\n",
      "#Epoch 300 :  MSE = 0.668196\n",
      "#Epoch 400 :  MSE = 0.629465\n",
      "#Epoch 500 :  MSE = 0.601439\n",
      "#Epoch 600 :  MSE = 0.581019\n",
      "#Epoch 700 :  MSE = 0.566111\n",
      "#Epoch 800 :  MSE = 0.555209\n",
      "#Epoch 900 :  MSE = 0.547221\n",
      "#Epoch 1000 :  MSE = 0.541356\n",
      "#Epoch 1100 :  MSE = 0.537039\n",
      "#Epoch 1200 :  MSE = 0.533853\n",
      "#Epoch 1300 :  MSE = 0.531496\n",
      "#Epoch 1400 :  MSE = 0.529745\n",
      "#Epoch 1500 :  MSE = 0.528441\n",
      "#Epoch 1600 :  MSE = 0.527466\n",
      "#Epoch 1700 :  MSE = 0.526733\n",
      "#Epoch 1800 :  MSE = 0.526181\n",
      "#Epoch 1900 :  MSE = 0.525763\n",
      "optimal internal model parameters: [[ 2.06855249]\n",
      " [ 0.78806996]\n",
      " [ 0.11988167]\n",
      " [-0.17034236]\n",
      " [ 0.21964972]\n",
      " [-0.00355259]\n",
      " [-0.03853594]\n",
      " [-0.93066454]\n",
      " [-0.89567691]]\n"
     ]
    }
   ],
   "source": [
    "with tf.Session() as sess:\n",
    "    sess.run(init)\n",
    "    \n",
    "    for epoch in range(n_epochs):\n",
    "        if epoch % 100 == 0:\n",
    "            print(\"#Epoch\", epoch, \": \", \"MSE =\", loss.eval())\n",
    "        sess.run(training_op_optimizer)\n",
    "        \n",
    "    best_W = W.eval()\n",
    "    print(\"optimal internal model parameters:\", best_W)"
   ]
  },
  {
   "cell_type": "code",
   "execution_count": null,
   "metadata": {},
   "outputs": [],
   "source": []
  },
  {
   "cell_type": "markdown",
   "metadata": {},
   "source": [
    "## Mini-batch GD with placeholder"
   ]
  },
  {
   "cell_type": "code",
   "execution_count": 14,
   "metadata": {},
   "outputs": [],
   "source": [
    "n_epochs = 100\n",
    "learning_rate = 0.01"
   ]
  },
  {
   "cell_type": "code",
   "execution_count": 15,
   "metadata": {},
   "outputs": [],
   "source": [
    "reset_graph()"
   ]
  },
  {
   "cell_type": "code",
   "execution_count": 16,
   "metadata": {},
   "outputs": [],
   "source": [
    "batch_size = 100\n",
    "n_batches = int(np.ceil(m / batch_size))    # np.float64-->int"
   ]
  },
  {
   "cell_type": "markdown",
   "metadata": {},
   "source": [
    "specify placeholder for batch stats input"
   ]
  },
  {
   "cell_type": "code",
   "execution_count": 17,
   "metadata": {},
   "outputs": [],
   "source": [
    "X = tf.placeholder(tf.float64, shape=(None, n+1), name=\"X\")\n",
    "Y = tf.placeholder(tf.float64, shape=(None, 1), name=\"Y\")"
   ]
  },
  {
   "cell_type": "code",
   "execution_count": 18,
   "metadata": {},
   "outputs": [],
   "source": [
    "np.random.seed(42)\n",
    "w = np.random.randn(n+1, 1)\n",
    "W = tf.Variable(w, name=\"W\", dtype=tf.float64)"
   ]
  },
  {
   "cell_type": "code",
   "execution_count": 19,
   "metadata": {},
   "outputs": [],
   "source": [
    "y_pred = tf.matmul(X, W, name=\"preditions\")"
   ]
  },
  {
   "cell_type": "code",
   "execution_count": 20,
   "metadata": {},
   "outputs": [],
   "source": [
    "error = Y - y_pred"
   ]
  },
  {
   "cell_type": "code",
   "execution_count": 21,
   "metadata": {
    "scrolled": true
   },
   "outputs": [],
   "source": [
    "loss = tf.losses.mean_squared_error(Y, y_pred)"
   ]
  },
  {
   "cell_type": "code",
   "execution_count": 22,
   "metadata": {},
   "outputs": [],
   "source": [
    "optimizer = tf.train.GradientDescentOptimizer(learning_rate=learning_rate)\n",
    "training_op = optimizer.minimize(loss)    # optimize tf.Variable (internal model parameters)"
   ]
  },
  {
   "cell_type": "code",
   "execution_count": 23,
   "metadata": {},
   "outputs": [],
   "source": [
    "init = tf.global_variables_initializer()"
   ]
  },
  {
   "cell_type": "markdown",
   "metadata": {},
   "source": [
    "specify logdir"
   ]
  },
  {
   "cell_type": "code",
   "execution_count": 24,
   "metadata": {},
   "outputs": [
    {
     "name": "stdout",
     "output_type": "stream",
     "text": [
      "tf_log/run-20190302064137/\n"
     ]
    }
   ],
   "source": [
    "from datetime import datetime\n",
    "now = datetime.utcnow().strftime(\"%Y%m%d%H%M%S\")\n",
    "root_dir = \"tf_log\"\n",
    "logdir = \"{}/run-{}/\".format(root_dir, now)\n",
    "print(logdir)"
   ]
  },
  {
   "cell_type": "markdown",
   "metadata": {},
   "source": [
    "attach summary operation at the end of the graph"
   ]
  },
  {
   "cell_type": "code",
   "execution_count": 25,
   "metadata": {
    "scrolled": true
   },
   "outputs": [],
   "source": [
    "loss_summary = tf.summary.scalar('MSE', loss)\n",
    "# write graph info to the logfile (events file)\n",
    "file_writer = tf.summary.FileWriter(logdir, tf.get_default_graph())"
   ]
  },
  {
   "cell_type": "code",
   "execution_count": 26,
   "metadata": {},
   "outputs": [],
   "source": [
    "def fetch_batch(epoch_index, batch_index, batch_size):\n",
    "    np.random.seed(epoch_index*batch_size+batch_index)\n",
    "    selected_samples = np.random.randint(m, size=batch_size)\n",
    "    X_batch = x[selected_samples]\n",
    "    Y_batch = y[selected_samples].reshape(-1, 1)\n",
    "    return X_batch, Y_batch"
   ]
  },
  {
   "cell_type": "code",
   "execution_count": 27,
   "metadata": {
    "scrolled": true
   },
   "outputs": [
    {
     "ename": "ModuleNotFoundError",
     "evalue": "No module named 'tensorflow_graph_in_jupyter'",
     "output_type": "error",
     "traceback": [
      "Traceback \u001b[0;36m(most recent call last)\u001b[0m:\n",
      "\u001b[0;36m  File \u001b[0;32m\"<ipython-input-27-54250237bfef>\"\u001b[0;36m, line \u001b[0;32m1\u001b[0;36m, in \u001b[0;35m<module>\u001b[0;36m\u001b[0m\n\u001b[0;31m    from tensorflow_graph_in_jupyter import show_graph\u001b[0m\n",
      "\u001b[0;31mModuleNotFoundError\u001b[0m\u001b[0;31m:\u001b[0m No module named 'tensorflow_graph_in_jupyter'\n"
     ]
    }
   ],
   "source": [
    "from tensorflow_graph_in_jupyter import show_graph\n",
    "show_graph(tf.get_default_graph())"
   ]
  },
  {
   "cell_type": "code",
   "execution_count": 29,
   "metadata": {},
   "outputs": [
    {
     "name": "stdout",
     "output_type": "stream",
     "text": [
      "sub:0\n"
     ]
    }
   ],
   "source": [
    "print(error.name)"
   ]
  },
  {
   "cell_type": "raw",
   "metadata": {},
   "source": [
    "## Visualize the graph with print() & tensorboard"
   ]
  },
  {
   "cell_type": "code",
   "execution_count": null,
   "metadata": {
    "scrolled": true
   },
   "outputs": [],
   "source": [
    "with tf.Session() as sess:\n",
    "    sess.run(init)\n",
    "    \n",
    "    for epoch in range(n_epochs):\n",
    "        for batch_index in range(n_batches): \n",
    "            X_batch, Y_batch = fetch_batch(epoch, batch, batch_size)\n",
    "            sess.run(training_op, feed_dict={X: X_batch, Y: Y_batch})\n",
    "            step = epoch*n_batches + batch_index\n",
    "            # for every operation that depneds on training data, should pass in them through feed_dict\n",
    "            # visualize data with print()\n",
    "            if epoch in range(1):\n",
    "                    print(\"#batch\", step, \":\", \"MSE=\", sess.run(loss, feed_dict={X: X_batch, Y: Y_batch}))    \n",
    "                \n",
    "            # visualize data with tensorboard\n",
    "            summary_str = sess.run(loss_summary, feed_dict={X: X_batch, Y: Y_batch})\n",
    "            file_writer.add_summary(summary_str, step)      "
   ]
  },
  {
   "cell_type": "code",
   "execution_count": null,
   "metadata": {},
   "outputs": [],
   "source": [
    "file_writer.flush()\n",
    "file_writer.close() "
   ]
  },
  {
   "cell_type": "markdown",
   "metadata": {},
   "source": [
    "## name scopes for categorization"
   ]
  },
  {
   "cell_type": "code",
   "execution_count": 65,
   "metadata": {},
   "outputs": [],
   "source": [
    "tf.reset_default_graph()"
   ]
  },
  {
   "cell_type": "code",
   "execution_count": 66,
   "metadata": {},
   "outputs": [],
   "source": [
    "X = tf.placeholder(name=\"X_batch\", dtype=tf.float64, shape=(None, 9))"
   ]
  },
  {
   "cell_type": "markdown",
   "metadata": {},
   "source": [
    "define reusable RELU unit"
   ]
  },
  {
   "cell_type": "code",
   "execution_count": 67,
   "metadata": {},
   "outputs": [],
   "source": [
    "def relu(x, threshold=0.0):\n",
    "    w_shape = (int(X.shape[1]), 1)\n",
    "    w = tf.Variable(np.random.rand(w_shape[0], 1), name=\"weights\", dtype=tf.float64)\n",
    "    b = tf.Variable(0.0, name=\"bias\", dtype=tf.float64)\n",
    "    z = tf.add(tf.matmul(X, w), b, name=\"z\")\n",
    "    output = tf.maximum(z, threshold, name=\"relu_output\")\n",
    "    return output"
   ]
  },
  {
   "cell_type": "code",
   "execution_count": 68,
   "metadata": {},
   "outputs": [],
   "source": [
    "threshold = tf.constant(0.0, name=\"threshold\", dtype=tf.float64)\n",
    "relus = [relu(X, threshold) for node in range(3)]\n",
    "output = tf.add_n(relus, name=\"output\")"
   ]
  },
  {
   "cell_type": "code",
   "execution_count": 69,
   "metadata": {},
   "outputs": [],
   "source": [
    "file_writer = tf.summary.FileWriter(\"relu\", tf.get_default_graph())"
   ]
  },
  {
   "cell_type": "code",
   "execution_count": 70,
   "metadata": {},
   "outputs": [],
   "source": [
    "file_writer.flush()\n",
    "file_writer.close()"
   ]
  },
  {
   "cell_type": "markdown",
   "metadata": {},
   "source": [
    "![relu praph](graph/relu_.png)"
   ]
  }
 ],
 "metadata": {
  "kernelspec": {
   "display_name": "Python 3 (Spyder)",
   "language": "python3",
   "name": "python3"
  }
 },
 "nbformat": 4,
 "nbformat_minor": 2
}
